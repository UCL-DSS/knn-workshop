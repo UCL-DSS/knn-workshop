{
 "cells": [
  {
   "cell_type": "markdown",
   "metadata": {},
   "source": [
    "# Problem"
   ]
  },
  {
   "cell_type": "markdown",
   "metadata": {},
   "source": [
    "First, let us import the libraries and look at our data"
   ]
  },
  {
   "cell_type": "code",
   "execution_count": null,
   "metadata": {},
   "outputs": [],
   "source": [
    "import numpy as np\n",
    "import pandas as pd\n",
    "from sklearn.model_selection import train_test_split\n",
    "from sklearn import neighbors"
   ]
  },
  {
   "cell_type": "code",
   "execution_count": null,
   "metadata": {},
   "outputs": [],
   "source": [
    "df = pd.read_csv(\"amazonprime.csv\")\n",
    "df"
   ]
  },
  {
   "cell_type": "markdown",
   "metadata": {},
   "source": [
    "This data is from Amazon Prime. It wants to predict whether a customer will stop using their\n",
    "Amazon prime service. If a customer stays, churn=0 and if they leave churn=1.\n",
    "The age variable records the age of the customer, spend records the amount spent\n",
    "on all Amazon purchases (in £100s) over the last calendar year, streamTV is the\n",
    "number of different TV shows streamed in the last year, streammovie is the\n",
    "number of different movies streamed in the last year, and monthlyorders is the\n",
    "average number of orders per month in the last year."
   ]
  },
  {
   "cell_type": "markdown",
   "metadata": {},
   "source": [
    "## Coding from scratch"
   ]
  },
  {
   "cell_type": "markdown",
   "metadata": {},
   "source": [
    "Your task is to predict churn using kNN. Try to use 3-NN then 5-NN and compare the accuracy rate. Use your best model to predict if the following customer will stop using Prime: age-20, spend-5, streamTV-3, streammovie-5,monthlyorders - 2.\n",
    "\n",
    "Use the workshop as a model for implementing kNN. Allocate 80% of the data to training."
   ]
  },
  {
   "cell_type": "code",
   "execution_count": null,
   "metadata": {},
   "outputs": [],
   "source": []
  },
  {
   "cell_type": "markdown",
   "metadata": {},
   "source": [
    "Run the following code to see the actual versus the predicted values of your model."
   ]
  },
  {
   "cell_type": "code",
   "execution_count": null,
   "metadata": {},
   "outputs": [],
   "source": [
    "# Predicting values\n",
    "y_pred = clf.predict(X_test)\n",
    "\n",
    "# Comparing predicted against actual values\n",
    "df2 = pd.DataFrame({\"Predicted\": y_pred, \"Actual\": y_test})\n",
    "df2"
   ]
  }
 ],
 "metadata": {
  "kernelspec": {
   "display_name": "Python 3",
   "language": "python",
   "name": "python3"
  },
  "language_info": {
   "codemirror_mode": {
    "name": "ipython",
    "version": 3
   },
   "file_extension": ".py",
   "mimetype": "text/x-python",
   "name": "python",
   "nbconvert_exporter": "python",
   "pygments_lexer": "ipython3",
   "version": "3.7.4"
  }
 },
 "nbformat": 4,
 "nbformat_minor": 2
}
